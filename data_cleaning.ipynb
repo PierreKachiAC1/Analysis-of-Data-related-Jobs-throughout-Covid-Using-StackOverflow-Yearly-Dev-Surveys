{
 "cells": [
  {
   "cell_type": "code",
   "execution_count": 1,
   "metadata": {},
   "outputs": [],
   "source": [
    "import pandas as pd\n",
    "import numpy as np\n"
   ]
  },
  {
   "cell_type": "code",
   "execution_count": 2,
   "metadata": {},
   "outputs": [],
   "source": [
    "ds19 = pd.read_csv('survey data/survey_results_public_2019.csv')\n",
    "ds20 = pd.read_csv('survey data/survey_results_public_2020.csv')\n",
    "ds21 = pd.read_csv('survey data/survey_results_public_2021.csv')\n",
    "ds22 = pd.read_csv('survey data/survey_results_public_2022.csv')\n",
    "ds23 = pd.read_csv('survey data/survey_results_public_2023.csv')"
   ]
  },
  {
   "cell_type": "code",
   "execution_count": 3,
   "metadata": {},
   "outputs": [
    {
     "name": "stdout",
     "output_type": "stream",
     "text": [
      "Index(['mainbranch', 'employment', 'country', 'edlevel', 'orgsize', 'devtype',\n",
      "       'yearscode', 'yearscodepro', 'currency', 'comptotal', 'sovisitfreq',\n",
      "       'soaccount', 'sopartfreq', 'socomm', 'age', 'surveylength',\n",
      "       'surveyease', 'year'],\n",
      "      dtype='object')\n"
     ]
    }
   ],
   "source": [
    "ds19[\"year\"]= 2019\n",
    "ds20[\"year\"]= 2020\n",
    "ds21[\"year\"]= 2021\n",
    "ds22[\"year\"]= 2022\n",
    "ds23[\"year\"]= 2023\n",
    "\n",
    "ds19.rename(columns={'CurrencyDesc': 'currency'}, inplace=True)\n",
    "ds20.rename(columns={'CurrencyDesc': 'currency'}, inplace=True)\n",
    "\n",
    "tempar = [ds19,ds20,ds21,ds22,ds23]\n",
    "for ds in tempar:\n",
    "    ds.columns = ds.columns.str.lower()\n",
    "    ds.columns = ds.columns.str.replace(' ', '_')\n",
    "    ds.columns = ds.columns.str.replace('-', '_')\n",
    "\n",
    "common_columns = ds19.columns.intersection(ds20.columns).intersection(ds21.columns).intersection(ds22.columns).intersection(ds23.columns)\n",
    "print(common_columns)"
   ]
  },
  {
   "cell_type": "code",
   "execution_count": 4,
   "metadata": {},
   "outputs": [
    {
     "name": "stdout",
     "output_type": "stream",
     "text": [
      "(399235, 18)\n",
      "Index(['mainbranch', 'employment', 'country', 'edlevel', 'orgsize', 'devtype',\n",
      "       'yearscode', 'yearscodepro', 'currency', 'comptotal', 'sovisitfreq',\n",
      "       'soaccount', 'sopartfreq', 'socomm', 'age', 'surveylength',\n",
      "       'surveyease', 'year'],\n",
      "      dtype='object')\n"
     ]
    }
   ],
   "source": [
    "merged_df = pd.concat([ds19, ds20, ds21, ds22, ds23], ignore_index=True)  \n",
    "merged_df = merged_df[list(common_columns)]\n",
    "print(merged_df.shape)\n",
    "print(merged_df.columns)"
   ]
  },
  {
   "cell_type": "code",
   "execution_count": 5,
   "metadata": {},
   "outputs": [
    {
     "name": "stdout",
     "output_type": "stream",
     "text": [
      "(385865, 18)\n",
      "[14.0 19.0 28.0 22.0 30.0 42.0 24.0 23.0 nan 21.0 31.0 20.0 26.0 29.0 38.0\n",
      " 47.0 34.0 32.0 25.0 17.0 35.0 27.0 44.0 43.0 62.0 37.0 45.0 18.0 33.0\n",
      " 36.0 16.0 39.0 64.0 41.0 54.0 49.0 40.0 56.0 12.0 58.0 46.0 59.0 51.0\n",
      " 48.0 57.0 52.0 50.0 23.9 55.0 15.0 67.0 13.0 1.0 53.0 69.0 65.0 17.5 63.0\n",
      " 61.0 68.0 73.0 70.0 60.0 16.5 46.5 11.0 71.0 3.0 97.0 29.5 77.0 74.0 26.5\n",
      " 26.3 24.5 78.0 72.0 66.0 76.0 10.0 75.0 99.0 83.0 79.0 36.8 14.1 13.5\n",
      " 19.5 98.0 43.5 22.5 31.5 21.5 28.5 33.6 2.0 38.5 30.8 24.8 90.0 61.3 81.0\n",
      " 4.0 17.3 19.9 80.0 85.0 88.0 23.5 16.9 20.9 91.0 98.9 57.9 9.0 94.0 95.0\n",
      " 37.5 14.5 5.0 82.0 84.0 37.3 33.5 53.8 31.4 87.0 49.5 26.8 86.0 15.5 35.7\n",
      " 32.5 23.8 96.0 14.7 34.5 20.5 279.0 27.5 32.8 89.0 19.8 7.0 39.5 23.4\n",
      " '25-34 years old' '18-24 years old' '35-44 years old' 'Prefer not to say'\n",
      " '45-54 years old' '65 years or older' '55-64 years old']\n"
     ]
    }
   ],
   "source": [
    "\n",
    "merged_df=merged_df[merged_df[\"age\"]!=\"Under 18 years old\"]\n",
    "\n",
    "print(merged_df.shape)\n",
    "print(merged_df[\"age\"].unique())\n"
   ]
  },
  {
   "cell_type": "code",
   "execution_count": 6,
   "metadata": {},
   "outputs": [
    {
     "name": "stdout",
     "output_type": "stream",
     "text": [
      "(353823, 18)\n",
      "[ 14  19  28  22  30  42  24  23  21  31  20  26  29  38  47  34  32  25\n",
      "  17  35  27  44  43  62  37  45  18  33  36  16  39  64  41  54  49  40\n",
      "  56  12  58  46  59  51  48  57  52  50  55  15  67  13   1  53  69  65\n",
      "  63  61  68  73  70  60  11  71   3  97  77  74  78  72  66  76  10  75\n",
      "  99  83  79  98   2  90  81   4  80  85  88  91   9  94  95   5  82  84\n",
      "  87  86  96 279  89   7  -1]\n"
     ]
    }
   ],
   "source": [
    "age_mapping = {\n",
    "    '25-34 years old': 29,\n",
    "    '18-24 years old': 21,\n",
    "    '35-44 years old': 39,\n",
    "    'Prefer not to say': -1,\n",
    "    '45-54 years old': 39,\n",
    "    '65 years or older': 65,\n",
    "    '55-64 years old': 59\n",
    "}\n",
    "merged_df['age'] = merged_df['age'].replace(age_mapping)\n",
    "\n",
    "merged_df.dropna(subset=['age'], inplace=True)\n",
    "merged_df['age'] = merged_df['age'].astype(int)\n",
    "\n",
    "print(merged_df.shape)\n",
    "print(merged_df[\"age\"].unique())\n",
    "\n"
   ]
  },
  {
   "cell_type": "code",
   "execution_count": 7,
   "metadata": {},
   "outputs": [
    {
     "name": "stdout",
     "output_type": "stream",
     "text": [
      "(55000, 18)\n",
      "['Data or business analyst;Data scientist or machine learning specialist;Database administrator;Engineer, data'\n",
      " 'Database administrator;Developer, back-end;Developer, front-end;Developer, full-stack;Developer, QA or test;DevOps specialist'\n",
      " 'Data or business analyst;Data scientist or machine learning specialist;Engineer, data;Student'\n",
      " ...\n",
      " 'Developer, front-end;Engineer, data;Engineer, site reliability;Developer, full-stack;Developer, back-end;Developer, QA or test;Developer, mobile;Engineering manager;Database administrator;Cloud infrastructure engineer;Data or business analyst;Designer;System administrator;Security professional'\n",
      " 'Data scientist or machine learning specialist;Developer, front-end;Developer, full-stack;Developer, back-end;Developer, QA or test;Developer, mobile;Database administrator;Cloud infrastructure engineer;Data or business analyst;Designer;Blockchain'\n",
      " 'Developer, front-end;Engineer, data;Engineer, site reliability;Developer, full-stack;Developer, back-end;Developer, desktop or enterprise applications;Developer, QA or test;Student;Developer, mobile;Academic researcher;DevOps specialist;Developer, embedded applications or devices;Developer, game or graphics;Cloud infrastructure engineer;Data or business analyst;Designer;Scientist;Product manager;System administrator']\n"
     ]
    }
   ],
   "source": [
    "merged_df.dropna(subset=['devtype'], inplace=True)\n",
    "\n",
    "merged_df = merged_df[merged_df[\"devtype\"].str.lower().str.contains(\"data\")]\n",
    "print(merged_df.shape)\n",
    "print(merged_df[\"devtype\"].unique())\n"
   ]
  },
  {
   "cell_type": "code",
   "execution_count": 8,
   "metadata": {},
   "outputs": [
    {
     "name": "stdout",
     "output_type": "stream",
     "text": [
      "['Canadian dollar' 'New Zealand dollar' nan 'United States dollar'\n",
      " 'European Euro' 'Czech koruna' 'Argentine peso' 'Australian dollar'\n",
      " 'Pound sterling' 'Croatian kuna' 'South African rand' 'Bulgarian lev'\n",
      " 'Indian rupee' 'Hong Kong dollar' 'Polish zloty' 'Pakistani rupee'\n",
      " 'Russian ruble' 'Israeli new shekel' 'Ukrainian hryvnia' 'Swedish krona'\n",
      " 'Brazilian real' 'Mauritian rupee' 'Danish krone' 'Iranian rial'\n",
      " 'Chinese Yuan Renminbi' 'Nepalese rupee' 'Norwegian krone'\n",
      " 'Singapore dollar' 'Turkish lira' 'Bangladeshi taka' 'Nigerian naira'\n",
      " 'Burundi franc' 'Serbian dinar' 'Japanese yen' 'Mexican peso'\n",
      " 'Colombian peso' 'Swiss franc' 'Hungarian forint' 'Malaysian ringgit'\n",
      " 'Mongolian tugrik' 'Philippine peso' 'Kenyan shilling'\n",
      " 'Indonesian rupiah' 'Belarusian ruble'\n",
      " 'Bosnia and Herzegovina convertible mark' 'Syrian pound'\n",
      " 'Moroccan dirham' 'Jordanian dinar' 'Trinidad and Tobago dollar'\n",
      " 'Albanian lek' 'Chilean peso' 'Lebanese pound' 'Romanian leu'\n",
      " 'Ghanaian cedi' 'Thai baht' 'Costa Rican colon' 'Honduran lempira'\n",
      " 'Qatari riyal' 'Sri Lankan rupee' 'South Korean won' 'Armenian dram'\n",
      " 'Tanzanian shilling' 'Guatemalan quetzal' 'Dominican peso'\n",
      " 'West African CFA franc' 'Netherlands Antillean guilder' 'Peruvian sol'\n",
      " 'Somali shilling' 'Cuban peso' 'Egyptian pound' 'Macedonian denar'\n",
      " 'Ugandan shilling' 'United Arab Emirates dirham' 'Ethiopian birr'\n",
      " 'Botswana pula' 'New Taiwan dollar' 'Tunisian dinar' 'Uruguayan peso'\n",
      " 'Saudi Arabian riyal' 'Central African CFA franc' 'Kuwaiti dinar'\n",
      " 'Bahraini dinar' 'Vietnamese dong' 'Georgian lari' 'Djiboutian franc'\n",
      " 'Libyan dinar' 'Myanmar kyat' 'Sudanese pound' 'Iraqi dinar'\n",
      " 'Icelandic krona' 'Kyrgyzstani som' 'Azerbaijan manat' 'Swazi lilangeni'\n",
      " 'Moldovan leu' 'Venezuelan bolivar' 'Mauritanian ouguiya'\n",
      " 'Guyanese dollar' 'Algerian dinar' 'Fijian dollar' 'Kazakhstani tenge'\n",
      " 'Guinean franc' 'Jamaican dollar' 'Bermudian dollar' 'Zambian kwacha'\n",
      " 'Paraguayan guarani' 'Afghan afghani' 'Bolivian boliviano'\n",
      " 'Nicaraguan cordoba' 'Haitian gourde' 'Angolan kwanza' 'Yemeni rial'\n",
      " 'Bhutanese ngultrum' 'Uzbekistani som' 'Mozambican metical'\n",
      " 'Maldivian rufiyaa' 'East Caribbean dollar' 'Rwandan franc' 'Lao kip'\n",
      " 'Brunei dollar' 'Seychellois rupee' 'Malawian kwacha' 'Omani rial'\n",
      " 'Malagasy ariary' 'e\\tCook Islands dollar' 'Cayman Islands dollar'\n",
      " 'CFP franc' 'Gibraltar pound' 'Cambodian riel' 'e\\tFaroese krona'\n",
      " 'Barbadian dollar' 'GBP\\tPound sterling' 'SEK\\tSwedish krona'\n",
      " 'EUR European Euro' 'RUB\\tRussian ruble' 'ILS\\tIsraeli new shekel'\n",
      " 'USD\\tUnited States dollar' 'AED United Arab Emirates dirham'\n",
      " 'CAD\\tCanadian dollar' 'BDT\\tBangladeshi taka' 'PLN\\tPolish zloty'\n",
      " 'INR\\tIndian rupee' 'CHF\\tSwiss franc' 'GEL\\tGeorgian lari'\n",
      " 'BHD\\tBahraini dinar' 'AUD\\tAustralian dollar' 'CLP\\tChilean peso'\n",
      " 'IRR\\tIranian rial' 'TZS\\tTanzanian shilling' 'CZK\\tCzech koruna'\n",
      " 'NOK\\tNorwegian krone' 'HUF\\tHungarian forint' 'RON\\tRomanian leu'\n",
      " 'VND\\tVietnamese dong' 'RSD\\tSerbian dinar' 'ZAR\\tSouth African rand'\n",
      " 'KES\\tKenyan shilling' 'TND\\tTunisian dinar' 'IDR\\tIndonesian rupiah'\n",
      " 'MXN\\tMexican peso' 'TRY\\tTurkish lira' 'JOD\\tJordanian dinar'\n",
      " 'BRL\\tBrazilian real' 'HRK\\tCroatian kuna' 'DKK\\tDanish krone'\n",
      " 'COP\\tColombian peso' 'PYG\\tParaguayan guarani' 'TWD\\tNew Taiwan dollar'\n",
      " 'ALL\\tAlbanian lek' 'EGP\\tEgyptian pound' 'MAD\\tMoroccan dirham'\n",
      " 'PKR\\tPakistani rupee' 'IQD\\tIraqi dinar'\n",
      " 'XAF\\tCentral African CFA franc' 'AZN\\tAzerbaijan manat'\n",
      " 'MYR\\tMalaysian ringgit' 'LKR\\tSri Lankan rupee' 'NPR\\tNepalese rupee'\n",
      " 'NZD\\tNew Zealand dollar' 'LBP\\tLebanese pound' 'THB\\tThai baht'\n",
      " 'SAR\\tSaudi Arabian riyal' 'CNY\\tChinese Yuan Renminbi'\n",
      " 'BGN\\tBulgarian lev' 'UAH\\tUkrainian hryvnia' 'DZD\\tAlgerian dinar'\n",
      " 'UYU\\tUruguayan peso' 'BAM\\tBosnia and Herzegovina convertible mark'\n",
      " 'XCD\\tEast Caribbean dollar' 'PEN\\tPeruvian sol' 'ARS\\tArgentine peso'\n",
      " 'NGN\\tNigerian naira' 'GHS\\tGhanaian cedi' 'UGX\\tUgandan shilling'\n",
      " 'DOP\\tDominican peso' 'CRC\\tCosta Rican colon' 'GMD\\tGambian dalasi'\n",
      " 'JPY\\tJapanese yen' 'PHP\\tPhilippine peso' 'AMD\\tArmenian dram'\n",
      " 'KRW\\tSouth Korean won' 'GTQ\\tGuatemalan quetzal' 'HKD\\tHong Kong dollar'\n",
      " 'KZT\\tKazakhstani tenge' 'MMK\\tMyanmar kyat' 'KWD\\tKuwaiti dinar'\n",
      " 'SZL\\tSwazi lilangeni' 'SGD\\tSingapore dollar' 'SYP\\tSyrian pound'\n",
      " 'ZMW Zambian kwacha' 'MDL\\tMoldovan leu' 'MUR\\tMauritian rupee'\n",
      " 'BYN\\tBelarusian ruble' 'AFN\\tAfghan afghani' 'MKD\\tMacedonian denar'\n",
      " 'MGA\\tMalagasy ariary' 'UZS\\tUzbekistani som' 'VES\\tVenezuelan bolivar'\n",
      " 'MNT\\tMongolian tugrik' 'TJS\\tTajikistani somoni' 'ETB\\tEthiopian birr'\n",
      " 'ISK\\tIcelandic krona' 'BOB\\tBolivian boliviano' 'OMR\\tOmani rial'\n",
      " 'HNL\\tHonduran lempira' 'TTD\\tTrinidad and Tobago dollar'\n",
      " 'GYD\\tGuyanese dollar' 'XOF\\tWest African CFA franc' 'LSL\\tLesotho loti'\n",
      " 'QAR\\tQatari riyal' 'MZN\\tMozambican metical'\n",
      " 'ANG Netherlands Antillean guilder' 'KHR\\tCambodian riel'\n",
      " 'NAD\\tNamibian dollar' 'LRD\\tLiberian dollar' 'RWF\\tRwandan franc'\n",
      " 'GIP\\tGibraltar pound' 'MVR\\tMaldivian rufiyaa' 'DJF\\tDjiboutian franc'\n",
      " 'LAK\\tLao kip' 'AOA\\tAngolan kwanza' 'MWK\\tMalawian kwacha'\n",
      " 'SDG\\tSudanese pound' 'BBD\\tBarbadian dollar' 'XPF\\tCFP franc'\n",
      " 'BTN\\tBhutanese ngultrum' 'KYD\\tCayman Islands dollar'\n",
      " 'CVE\\tCape Verdean escudo' 'LYD\\tLibyan dinar' 'BSD\\tBahamian dollar'\n",
      " 'JMD\\tJamaican dollar' 'TMT\\tTurkmen manat'\n",
      " 'XDR\\tSDR (Special Drawing Right)' 'BWP\\tBotswana pula'\n",
      " 'BZD\\tBelize dollar' 'BMD\\tBermudian dollar' 'KGS\\tKyrgyzstani som'\n",
      " 'AWG\\tAruban florin' 'GNF\\tGuinean franc' 'CUP\\tCuban peso'\n",
      " 'YER\\tYemeni rial' 'SOS\\tSomali shilling' 'IMP\\tManx pound'\n",
      " 'BND\\tBrunei dollar' 'SRD\\tSurinamese dollar']\n"
     ]
    }
   ],
   "source": [
    "print(merged_df[\"currency\"].unique())"
   ]
  },
  {
   "cell_type": "code",
   "execution_count": 9,
   "metadata": {},
   "outputs": [
    {
     "name": "stdout",
     "output_type": "stream",
     "text": [
      "(55000, 18)\n",
      "5      40000.0\n",
      "8     138000.0\n",
      "11         NaN\n",
      "12     90000.0\n",
      "19      3000.0\n",
      "Name: comptotal, dtype: float64\n",
      "5      32000.0\n",
      "8     100740.0\n",
      "11         NaN\n",
      "12     90000.0\n",
      "19      3540.0\n",
      "Name: comptotal_usd, dtype: float64\n"
     ]
    }
   ],
   "source": [
    "\n",
    "currency_values = {\n",
    "    'Canadian dollar': 0.80,\n",
    "    'CAD\\tCanadian dollar': 0.80,\n",
    "    'New Zealand dollar': 0.73,\n",
    "    'NZD\\tNew Zealand dollar': 0.73,\n",
    "    'United States dollar': 1.0,\n",
    "    'USD\\tUnited States dollar': 1.0,\n",
    "    'European Euro': 1.18,\n",
    "    'EUREuropean Euro': 1.18,\n",
    "    'Pound sterling': 1.37,\n",
    "    'GBP\\tPound sterling': 1.37,\n",
    "    'Australian dollar': 0.76,\n",
    "    'AUD\\tAustralian dollar': 0.76,\n",
    "    'Japanese yen': 0.0092,\n",
    "    'JPY\\tJapanese yen': 0.0092,\n",
    "    'Swiss franc': 1.09,\n",
    "    'CHF\\tSwiss franc': 1.09,\n",
    "    'Chinese Yuan Renminbi': 0.15,\n",
    "    'CNY\\tChinese Yuan Renminbi': 0.15\n",
    "}\n",
    "merged_df[\"currency\"]\n",
    "print(merged_df.shape)\n",
    "print(merged_df['comptotal'].head())\n",
    "merged_df['comptotal_usd'] = merged_df['comptotal'] * merged_df['currency'].map(currency_values)\n",
    "print(merged_df['comptotal_usd'].head())\n",
    "merged_df = merged_df.fillna(0)\n",
    "\n"
   ]
  },
  {
   "cell_type": "code",
   "execution_count": 10,
   "metadata": {},
   "outputs": [
    {
     "name": "stdout",
     "output_type": "stream",
     "text": [
      "Index(['employment', 'country', 'edlevel', 'orgsize', 'yearscode',\n",
      "       'yearscodepro', 'currency', 'comptotal', 'age', 'year',\n",
      "       'comptotal_usd'],\n",
      "      dtype='object')\n"
     ]
    }
   ],
   "source": [
    "merged_df.drop(columns=[\"mainbranch\",\"sopartfreq\",\"surveyease\",\"surveylength\",\"socomm\", \"sovisitfreq\",\"soaccount\",\"devtype\"], inplace=True)\n",
    "print(merged_df.columns)\n"
   ]
  },
  {
   "cell_type": "code",
   "execution_count": 11,
   "metadata": {},
   "outputs": [
    {
     "name": "stdout",
     "output_type": "stream",
     "text": [
      "Index([                                          'Bachelor’s degree (BA, BS, B.Eng., etc.)',\n",
      "                                   'Some college/university study without earning a degree',\n",
      "                                              'Master’s degree (MA, MS, M.Eng., MBA, etc.)',\n",
      "       'Secondary school (e.g. American high school, German Realschule or Gymnasium, etc.)',\n",
      "                                                                         'Associate degree',\n",
      "                                                'Other doctoral degree (Ph.D, Ed.D., etc.)',\n",
      "                                                       'Professional degree (JD, MD, etc.)',\n",
      "                                                                                          0,\n",
      "                                                   'I never completed any formal education',\n",
      "                                                                'Primary/elementary school',\n",
      "                                          'Master’s degree (M.A., M.S., M.Eng., MBA, etc.)',\n",
      "                                             'Bachelor’s degree (B.A., B.S., B.Eng., etc.)',\n",
      "                                               'Other doctoral degree (Ph.D., Ed.D., etc.)',\n",
      "                                                      'Associate degree (A.A., A.S., etc.)',\n",
      "                                                                           'Something else',\n",
      "                                           'Professional degree (JD, MD, Ph.D, Ed.D, etc.)'],\n",
      "      dtype='object')\n",
      "[ 0  1  2  3  4  5  6  7  8  9 10 11 12 13 14 15]\n",
      "Index(['Employed full-time', 'Employed part-time',\n",
      "       'Independent contractor, freelancer, or self-employed',\n",
      "       'Not employed, but looking for work', 'Employed, full-time',\n",
      "       'Employed, part-time', 'Employed, full-time;Student, full-time',\n",
      "       'Student, part-time;Independent contractor, freelancer, or self-employed',\n",
      "       'Employed, full-time;Independent contractor, freelancer, or self-employed',\n",
      "       'Student, full-time;Independent contractor, freelancer, or self-employed',\n",
      "       'Not employed, but looking for work;Independent contractor, freelancer, or self-employed',\n",
      "       'Student, full-time;Employed, part-time',\n",
      "       'Student, part-time;Employed, part-time',\n",
      "       'Independent contractor, freelancer, or self-employed;Employed, part-time',\n",
      "       'Employed, full-time;Student, part-time',\n",
      "       'Employed, full-time;Student, full-time;Independent contractor, freelancer, or self-employed',\n",
      "       'Student, full-time;Not employed, but looking for work',\n",
      "       'Employed, full-time;Employed, part-time',\n",
      "       'Employed, full-time;Student, part-time;Independent contractor, freelancer, or self-employed',\n",
      "       'Student, full-time;Independent contractor, freelancer, or self-employed;Employed, part-time',\n",
      "       'Not employed, but looking for work;Independent contractor, freelancer, or self-employed;Employed, part-time',\n",
      "       'Employed, full-time;Student, full-time;Student, part-time;Not employed, but looking for work;Independent contractor, freelancer, or self-employed;Employed, part-time;Retired',\n",
      "       'Independent contractor, freelancer, or self-employed;Retired',\n",
      "       'Student, part-time;Not employed, but looking for work;Employed, part-time',\n",
      "       'Employed, full-time;Independent contractor, freelancer, or self-employed;Employed, part-time',\n",
      "       'Student, part-time;Not employed, but looking for work;Independent contractor, freelancer, or self-employed',\n",
      "       'Student, part-time;Independent contractor, freelancer, or self-employed;Employed, part-time',\n",
      "       'Student, full-time;Not employed, but looking for work;Independent contractor, freelancer, or self-employed',\n",
      "       'Employed, full-time;Student, full-time;Student, part-time;Independent contractor, freelancer, or self-employed',\n",
      "       'Employed, full-time;Student, full-time;Employed, part-time',\n",
      "       'Employed, part-time;Retired',\n",
      "       'Employed, full-time;Student, full-time;Student, part-time',\n",
      "       'Independent contractor, freelancer, or self-employed;Not employed, and not looking for work',\n",
      "       'Not employed, but looking for work;Independent contractor, freelancer, or self-employed;Retired',\n",
      "       'Student, full-time;Independent contractor, freelancer, or self-employed;Not employed, and not looking for work',\n",
      "       'Student, full-time;Student, part-time;Independent contractor, freelancer, or self-employed',\n",
      "       'Employed, full-time;Student, full-time;Student, part-time;Not employed, but looking for work;Independent contractor, freelancer, or self-employed;Employed, part-time;Not employed, and not looking for work;Retired',\n",
      "       'Employed, full-time;Not employed, but looking for work;Not employed, and not looking for work',\n",
      "       'Not employed, but looking for work;Retired',\n",
      "       'Employed, full-time;Student, full-time;Student, part-time;Not employed, but looking for work;Independent contractor, freelancer, or self-employed;Employed, part-time;Not employed, and not looking for work',\n",
      "       'Student, part-time;Not employed, but looking for work',\n",
      "       'Employed, full-time;Student, part-time;Employed, part-time',\n",
      "       'Student, part-time;Not employed, but looking for work;Independent contractor, freelancer, or self-employed;Employed, part-time',\n",
      "       'Employed, full-time;Not employed, but looking for work;Employed, part-time',\n",
      "       'Student, full-time;Student, part-time;Not employed, but looking for work',\n",
      "       'Student, full-time;Student, part-time;Employed, part-time',\n",
      "       'Employed, full-time;Student, full-time;Student, part-time;Employed, part-time',\n",
      "       'Student, full-time;Not employed, but looking for work;Employed, part-time',\n",
      "       'Student, part-time;Independent contractor, freelancer, or self-employed;Retired',\n",
      "       'Employed, full-time;Not employed, but looking for work',\n",
      "       'Independent contractor, freelancer, or self-employed;Employed, part-time;Retired',\n",
      "       'Employed, full-time;Student, full-time;Student, part-time;Not employed, but looking for work;Employed, part-time;Not employed, and not looking for work',\n",
      "       'Not employed, but looking for work;Employed, part-time',\n",
      "       'Employed, full-time;Not employed, but looking for work;Independent contractor, freelancer, or self-employed',\n",
      "       'Not employed, but looking for work;Not employed, and not looking for work',\n",
      "       'Employed, full-time;Student, full-time;Independent contractor, freelancer, or self-employed;Employed, part-time;Not employed, and not looking for work',\n",
      "       'Student, full-time;Student, part-time;Not employed, but looking for work;Independent contractor, freelancer, or self-employed;Employed, part-time;Not employed, and not looking for work;Retired',\n",
      "       'Student, part-time;Independent contractor, freelancer, or self-employed;Not employed, and not looking for work',\n",
      "       'Employed, full-time;Student, full-time;Student, part-time;Independent contractor, freelancer, or self-employed;Retired',\n",
      "       'Student, full-time;Student, part-time;Not employed, but looking for work;Independent contractor, freelancer, or self-employed;Not employed, and not looking for work',\n",
      "       'Student, full-time;Independent contractor, freelancer, or self-employed;Retired',\n",
      "       'Employed, full-time;Student, full-time;Student, part-time;Independent contractor, freelancer, or self-employed;Employed, part-time',\n",
      "       'Employed, full-time;Student, full-time;Student, part-time;Not employed, but looking for work;Employed, part-time',\n",
      "       'Employed, full-time;Student, part-time;Independent contractor, freelancer, or self-employed;Employed, part-time',\n",
      "       'Independent contractor, freelancer, or self-employed;Not employed, and not looking for work;Retired',\n",
      "       'Student, part-time;Not employed, but looking for work;Retired',\n",
      "       'Employed, full-time;Independent contractor, freelancer, or self-employed;Retired',\n",
      "       'Student, part-time;Independent contractor, freelancer, or self-employed;Employed, part-time;Retired',\n",
      "       'Independent contractor, freelancer, or self-employed;Student, part-time',\n",
      "       'Independent contractor, freelancer, or self-employed;Student, full-time',\n",
      "       'Independent contractor, freelancer, or self-employed;Student, full-time;Employed, part-time',\n",
      "       'Employed, part-time;Student, part-time',\n",
      "       'Independent contractor, freelancer, or self-employed;Not employed, but looking for work',\n",
      "       'Employed, full-time;Independent contractor, freelancer, or self-employed;Student, part-time',\n",
      "       'Independent contractor, freelancer, or self-employed;Not employed, but looking for work;Student, full-time',\n",
      "       'Not employed, but looking for work;Student, part-time',\n",
      "       'Employed, full-time;Independent contractor, freelancer, or self-employed;Student, full-time',\n",
      "       'Employed, full-time;Independent contractor, freelancer, or self-employed;Employed, part-time;Student, part-time',\n",
      "       'Not employed, but looking for work;Student, full-time',\n",
      "       'Independent contractor, freelancer, or self-employed;Employed, part-time;Student, part-time',\n",
      "       'Independent contractor, freelancer, or self-employed;Not employed, but looking for work;Student, part-time;Retired',\n",
      "       'Independent contractor, freelancer, or self-employed;Not employed, but looking for work;Student, part-time',\n",
      "       'Employed, full-time;Retired',\n",
      "       'Employed, full-time;Independent contractor, freelancer, or self-employed;Not employed, but looking for work;Student, full-time;Employed, part-time;Student, part-time;Retired;Not employed, and not looking for work',\n",
      "       'Employed, full-time;Independent contractor, freelancer, or self-employed;Not employed, but looking for work;Retired',\n",
      "       'Employed, full-time;Student, part-time;Retired',\n",
      "       'Independent contractor, freelancer, or self-employed;Student, part-time;Not employed, and not looking for work',\n",
      "       'Independent contractor, freelancer, or self-employed;Student, full-time;Student, part-time',\n",
      "       'Employed, full-time;Employed, part-time;Student, part-time',\n",
      "       'Independent contractor, freelancer, or self-employed;Not employed, but looking for work;Employed, part-time',\n",
      "       'Not employed, but looking for work;Student, full-time;Not employed, and not looking for work'],\n",
      "      dtype='object')\n",
      "[ 0  1  2  3  4  5  6  7  8  9 10 11 12 13 14 15 16 17 18 19 20 21 22 23\n",
      " 24 25 26 27 28 29 30 31 32 33 34 35 36 37 38 39 40 41 42 43 44 45 46 47\n",
      " 48 49 50 51 52 53 54 55 56 57 58 59 60 61 62 63 64 65 66 67 68 69 70 71\n",
      " 72 73 74 75 76 77 78 79 80 81 82 83 84 85 86 87 88 89 90]\n"
     ]
    }
   ],
   "source": [
    "merged_df[\"edlevel\"].fillna(\"I never completed any formal education\", inplace=True)\n",
    "temp = pd.factorize(merged_df['edlevel'])\n",
    "print(temp[1])\n",
    "merged_df['edvalue'] = temp[0]\n",
    "print(merged_df['edvalue'].unique())\n",
    "\n",
    "\n",
    "temp=pd.factorize(merged_df['employment'])\n",
    "merged_df['employment_value'] = temp[0]\n",
    "print(temp[1])\n",
    "print(merged_df['employment_value'].unique())"
   ]
  },
  {
   "cell_type": "code",
   "execution_count": 12,
   "metadata": {},
   "outputs": [
    {
     "name": "stdout",
     "output_type": "stream",
     "text": [
      "[13 12  5 17  8 35  6 30  9 19  2 15  4 25  1  7 16  3 11 14 10 41 20 26\n",
      " 22 21 32 27 23 40 24 18 38 28 34 36 37 29 39 48 45 31 33 44 42 49 51  0\n",
      " 50 47 43 46]\n",
      "(55000, 13)\n"
     ]
    }
   ],
   "source": [
    "merged_df[\"yearscode\"].replace({np.nan: 1, \"Less than 1 year\": 1, \"More than 50 years\": 51}, inplace=True)\n",
    "merged_df[\"yearscode\"] = merged_df[\"yearscode\"].astype(int)\n",
    "print(merged_df[\"yearscode\"].unique())\n",
    "print(merged_df.shape)"
   ]
  },
  {
   "cell_type": "code",
   "execution_count": 13,
   "metadata": {},
   "outputs": [
    {
     "name": "stdout",
     "output_type": "stream",
     "text": [
      "[0 '10 to 19 employees' '1,000 to 4,999 employees'\n",
      " '10,000 or more employees' '100 to 499 employees'\n",
      " 'Just me - I am a freelancer, sole proprietor, etc.' '20 to 99 employees'\n",
      " '2-9 employees' '500 to 999 employees' '5,000 to 9,999 employees'\n",
      " '2 to 9 employees' 'I don’t know']\n",
      "            employment        country  \\\n",
      "id                                      \n",
      "0   Employed full-time         Canada   \n",
      "1   Employed full-time    New Zealand   \n",
      "2   Employed part-time         Canada   \n",
      "3   Employed full-time  United States   \n",
      "4   Employed full-time      Lithuania   \n",
      "\n",
      "                                              edlevel                 orgsize  \\\n",
      "id                                                                              \n",
      "0            Bachelor’s degree (BA, BS, B.Eng., etc.)                     NaN   \n",
      "1   Some college/university study without earning ...      10 to 19 employees   \n",
      "2   Some college/university study without earning ...                     NaN   \n",
      "3         Master’s degree (MA, MS, M.Eng., MBA, etc.)      10 to 19 employees   \n",
      "4         Master’s degree (MA, MS, M.Eng., MBA, etc.)  1000 to 4999 employees   \n",
      "\n",
      "    yearscode yearscodepro              currency  comptotal  age  year  \\\n",
      "id                                                                       \n",
      "0          13            3       Canadian dollar    40000.0   28  2019   \n",
      "1          12            4    New Zealand dollar   138000.0   23  2019   \n",
      "2           5            0                     0        0.0   21  2019   \n",
      "3          17            8  United States dollar    90000.0   28  2019   \n",
      "4           8            4         European Euro     3000.0   38  2019   \n",
      "\n",
      "    comptotal_usd  edvalue  employment_value lower_bound_orgsize  \\\n",
      "id                                                                 \n",
      "0         32000.0        0                 0                 NaN   \n",
      "1        100740.0        1                 0                  10   \n",
      "2             0.0        1                 1                 NaN   \n",
      "3         90000.0        2                 0                  10   \n",
      "4          3540.0        2                 0                1000   \n",
      "\n",
      "   upper_bound_orgsize  \n",
      "id                      \n",
      "0                10001  \n",
      "1                   19  \n",
      "2                10001  \n",
      "3                   19  \n",
      "4                 4999  \n"
     ]
    }
   ],
   "source": [
    "merged_df[\"orgsize\"].replace(np.nan,\"test.\", inplace=True)\n",
    "print(merged_df[\"orgsize\"].unique())\n",
    "merged_df[\"orgsize\"] = merged_df[\"orgsize\"].str.replace('test',\"1\")\n",
    "merged_df[\"orgsize\"] = merged_df[\"orgsize\"].str.replace(',','')\n",
    "\n",
    "merged_df[\"lower_bound_orgsize\"] = merged_df[\"orgsize\"].str.extract(r'(\\d+)')#saraha heyde men chatgpt\n",
    "merged_df[\"upper_bound_orgsize\"] = merged_df[\"orgsize\"].str.extract(r'\\d+\\D+(\\d+)')\n",
    "merged_df[\"upper_bound_orgsize\"].fillna(10001, inplace=True)\n",
    "\n",
    "\n",
    "merged_df.reset_index(drop=True, inplace=True)\n",
    "\n",
    "merged_df = merged_df.rename_axis('id')\n",
    "\n",
    "print(merged_df.head())\n"
   ]
  },
  {
   "cell_type": "code",
   "execution_count": 15,
   "metadata": {},
   "outputs": [
    {
     "name": "stdout",
     "output_type": "stream",
     "text": [
      "(55000, 15)\n"
     ]
    }
   ],
   "source": [
    "print(merged_df.shape)\n",
    "merged_df.to_csv('modified_survey_data3.csv', index=False)"
   ]
  }
 ],
 "metadata": {
  "kernelspec": {
   "display_name": "proba1",
   "language": "python",
   "name": "python3"
  },
  "language_info": {
   "codemirror_mode": {
    "name": "ipython",
    "version": 3
   },
   "file_extension": ".py",
   "mimetype": "text/x-python",
   "name": "python",
   "nbconvert_exporter": "python",
   "pygments_lexer": "ipython3",
   "version": "3.10.13"
  }
 },
 "nbformat": 4,
 "nbformat_minor": 2
}
